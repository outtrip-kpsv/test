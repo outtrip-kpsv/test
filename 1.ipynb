{
 "cells": [
  {
   "cell_type": "markdown",
   "metadata": {},
   "source": [
    "### 1. Аналитик в компании “Рога и Ко” за день написал некоторое количество SQL-запросов. Все  запросы можно охарактеризовать количественной характеристикой сложности выполнения - условная “память”. Три “тяжелейших” (7/20 общей затраченной памяти) запроса превысили максимальное время выполнения и были отключены системой. Три “легчайших” (5/13 затраченной памяти всех оставшихся запросов) выполнялись менее 10 минут каждый. Остальные запросы выполнялись менее получаса каждый."
   ]
  },
  {
   "cell_type": "code",
   "execution_count": 1,
   "metadata": {},
   "outputs": [],
   "source": [
    "import matplotlib.pyplot as plt"
   ]
  },
  {
   "cell_type": "code",
   "execution_count": 2,
   "metadata": {},
   "outputs": [],
   "source": [
    "n_max = 3\n",
    "n_min = 3\n",
    "time_mid = 30\n",
    "time_min = 10"
   ]
  },
  {
   "cell_type": "code",
   "execution_count": 3,
   "metadata": {},
   "outputs": [],
   "source": [
    "# найдем доли затраченной памяти 3-мя группами запросов\n",
    "st_max = 7/20\n",
    "st_min = ((1-st_max)/13)*5\n",
    "st_mid = 1-st_max -st_min"
   ]
  },
  {
   "cell_type": "code",
   "execution_count": 4,
   "metadata": {},
   "outputs": [
    {
     "data": {
      "image/png": "[encoded data removed]",
      "text/plain": [
       "<Figure size 360x360 with 1 Axes>"
      ]
     },
     "metadata": {},
     "output_type": "display_data"
    }
   ],
   "source": [
    "plt.figure(figsize=(5,5))\n",
    "labels = ['Тяжелые', 'Средние', 'Легкие']\n",
    "plt.pie([7/20, st_mid, st_min],labels=labels, autopct='%1.1f%%')\n",
    "plt.show()"
   ]
  },
  {
   "cell_type": "code",
   "execution_count": 5,
   "metadata": {},
   "outputs": [],
   "source": [
    "# столько памяти затрачивает один тяжелый и один легкий запрос\n",
    "reqest_max = st_max / n_max\n",
    "reqest_min = st_min / n_min"
   ]
  },
  {
   "cell_type": "code",
   "execution_count": 6,
   "metadata": {},
   "outputs": [],
   "source": [
    "# один средный диапозон затрачивает памяти в интервале между тяжелым и легким\n",
    "n_mid = [i for i in range(1, 10) if (st_mid/i < reqest_max) & (st_mid/i > reqest_min)][0]"
   ]
  },
  {
   "cell_type": "code",
   "execution_count": 7,
   "metadata": {},
   "outputs": [
    {
     "name": "stdout",
     "output_type": "stream",
     "text": [
      "Аналитик написал: 10 запросов\n"
     ]
    }
   ],
   "source": [
    "print('Аналитик написал: {} запросов'.format(\n",
    "    n_max + n_mid +n_min) )"
   ]
  },
  {
   "cell_type": "code",
   "execution_count": 8,
   "metadata": {},
   "outputs": [],
   "source": [
    "mean_time = (time_mid*n_mid + time_min*n_min) / (n_mid + n_min)"
   ]
  },
  {
   "cell_type": "code",
   "execution_count": 9,
   "metadata": {},
   "outputs": [
    {
     "name": "stdout",
     "output_type": "stream",
     "text": [
      "Среднее время успешно выполненных запросов не более: 21.43 минуты\n"
     ]
    }
   ],
   "source": [
    "print('Среднее время успешно выполненных запросов не более: {:.4} минуты'.format(mean_time))"
   ]
  },
  {
   "cell_type": "code",
   "execution_count": null,
   "metadata": {},
   "outputs": [],
   "source": []
  }
 ],
 "metadata": {
  "kernelspec": {
   "display_name": "Python 3",
   "language": "python",
   "name": "python3"
  },
  "language_info": {
   "codemirror_mode": {
    "name": "ipython",
    "version": 3
   },
   "file_extension": ".py",
   "mimetype": "text/x-python",
   "name": "python",
   "nbconvert_exporter": "python",
   "pygments_lexer": "ipython3",
   "version": "3.8.5"
  }
 },
 "nbformat": 4,
 "nbformat_minor": 4
}
