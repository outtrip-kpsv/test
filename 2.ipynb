{
 "cells": [
  {
   "cell_type": "markdown",
   "metadata": {},
   "source": [
    "### 2. В команде есть два стажера-аналитика. Правильный ответ каждый из стажеров получает в 14 из 17 случаев. Чтобы быть более уверенным в важном решении, менеджер решил дать одну и ту же задачу сразу обоим аналитикам: если оба получают одинаковый ответ, то менеджер его использует, а если ответы разные - выберет один из них наугад. Насколько такой способ повышает шансы менеджера принять верное решение?"
   ]
  },
  {
   "cell_type": "code",
   "execution_count": 1,
   "metadata": {},
   "outputs": [],
   "source": [
    "import numpy as np"
   ]
  },
  {
   "cell_type": "code",
   "execution_count": 2,
   "metadata": {},
   "outputs": [],
   "source": [
    "n = 10000000 # количество решений\n",
    "x = np.random.choice([0,1], n ,p=[3/17, 14/17]) # n - решений первого стажера-аналитика\n",
    "y = np.random.choice([0,1], n ,p=[3/17, 14/17]) # n - решений второго стажера-аналитика"
   ]
  },
  {
   "cell_type": "code",
   "execution_count": 3,
   "metadata": {},
   "outputs": [],
   "source": [
    "ver_true_x = x[x==1].shape[0] /n\n",
    "ver_false_x = x[x==0].shape[0] / n\n",
    "\n",
    "ver_true_y = y[y==1].shape[0] /n\n",
    "ver_false_y = y[y==0].shape[0] / n"
   ]
  },
  {
   "cell_type": "code",
   "execution_count": 4,
   "metadata": {},
   "outputs": [
    {
     "name": "stdout",
     "output_type": "stream",
     "text": [
      "Вероятность правильного решения \n",
      "1 стажер - аналитик \n",
      "\tправильно: 82.36% неправильно: 17.64%\n",
      "2 стажер - аналитик \n",
      "\tправильно: 82.36% неправильно: 17.64%\n"
     ]
    }
   ],
   "source": [
    "print('Вероятность правильного решения \\n1 стажер - аналитик \\n\\tправильно: {:.2%} неправильно: {:.2%}\\n2 стажер - аналитик \\n\\tправильно: {:.2%} неправильно: {:.2%}'.format(\n",
    "    ver_true_x, ver_false_x, \n",
    "    ver_true_y, ver_false_y))"
   ]
  },
  {
   "cell_type": "code",
   "execution_count": 5,
   "metadata": {},
   "outputs": [
    {
     "name": "stdout",
     "output_type": "stream",
     "text": [
      "Вероятность правильного решения:\n",
      "1 стажер - аналитик \n",
      "\tправильно: 82.36% неправильно: 17.64%\n",
      "2 стажер - аналитик \n",
      "\tправильно: 82.36% неправильно: 17.64%\n"
     ]
    }
   ],
   "source": [
    "print('Вероятность правильного решения:')\n",
    "print('1 стажер - аналитик \\n\\tправильно: {:.2%} неправильно: {:.2%}'.format(ver_true_x, ver_false_x))\n",
    "print('2 стажер - аналитик \\n\\tправильно: {:.2%} неправильно: {:.2%}'.format(ver_true_y, ver_false_y))"
   ]
  },
  {
   "cell_type": "markdown",
   "metadata": {},
   "source": [
    "##### Рассмотрим  первый вариант при котором стажеры-аналитики совершают одинаковые ошибки при решении задач, тогда в случае если оба решения совпадает получается ошибка (примерно 4.4%), когда они оба решили неверно, но решения совпали"
   ]
  },
  {
   "cell_type": "code",
   "execution_count": 6,
   "metadata": {},
   "outputs": [],
   "source": [
    "# вероятность что решения совпадают: оба решили правильно + оба допустили одинаковую ошибку (два одинаковых решения)\n",
    "сhance_x_eq_y = ver_true_x*ver_true_y + ver_false_x*ver_false_y\n",
    "# вероятность что решения не совпадают: первый решил верно второий нет (два разных решения)\n",
    "сhance_x_noeq_y = ver_true_x*ver_false_y + ver_false_x*ver_true_y"
   ]
  },
  {
   "cell_type": "code",
   "execution_count": 7,
   "metadata": {},
   "outputs": [
    {
     "name": "stdout",
     "output_type": "stream",
     "text": [
      "вероятность того, что решения совпадают: 70.94%\n",
      "решения не совпадают: 29.06%\n"
     ]
    }
   ],
   "source": [
    "print('вероятность того, что решения совпадают: {:.2%}\\nрешения не совпадают: {:.2%}'.format(сhance_x_eq_y, сhance_x_noeq_y))"
   ]
  },
  {
   "cell_type": "code",
   "execution_count": 8,
   "metadata": {},
   "outputs": [],
   "source": [
    "all_x_eq_y = x[x==y]\n",
    "all_x_noeq_y = x[x!=y]"
   ]
  },
  {
   "cell_type": "code",
   "execution_count": 9,
   "metadata": {},
   "outputs": [],
   "source": [
    "x_eq_y_right = all_x_eq_y[all_x_eq_y == 1].shape[0] / all_x_eq_y.shape[0]\n",
    "x_eq_y_mistake = all_x_eq_y[all_x_eq_y == 0].shape[0] / all_x_eq_y.shape[0]\n",
    "\n",
    "x_noeq_y_right = all_x_noeq_y[all_x_noeq_y == 1].shape[0] / all_x_noeq_y.shape[0]\n",
    "x_noeq_y_mistake = all_x_noeq_y[all_x_noeq_y == 0].shape[0] / all_x_noeq_y.shape[0]"
   ]
  },
  {
   "cell_type": "code",
   "execution_count": 10,
   "metadata": {},
   "outputs": [],
   "source": [
    "result = сhance_x_eq_y * x_eq_y_right + сhance_x_noeq_y * x_noeq_y_right"
   ]
  },
  {
   "cell_type": "code",
   "execution_count": 11,
   "metadata": {},
   "outputs": [
    {
     "name": "stdout",
     "output_type": "stream",
     "text": [
      "Если ответы совпадают:\n",
      "\t вероятность правильного решения: 95.61% вероятность ошибки: 4.39%\n",
      "Если ответы не совпадают:\n",
      "\t вероятность правильного решения: 50.00% вероятность ошибки: 50.00%\n"
     ]
    }
   ],
   "source": [
    "print('Если ответы совпадают:')\n",
    "print('\\t вероятность правильного решения: {:.2%} вероятность ошибки: {:.2%}'.format(\n",
    "    x_eq_y_right, x_eq_y_mistake))\n",
    "print('Если ответы не совпадают:')\n",
    "print('\\t вероятность правильного решения: {:.2%} вероятность ошибки: {:.2%}'.format(\n",
    "    x_noeq_y_right, x_noeq_y_mistake))"
   ]
  },
  {
   "cell_type": "code",
   "execution_count": 12,
   "metadata": {},
   "outputs": [
    {
     "name": "stdout",
     "output_type": "stream",
     "text": [
      "Шанс менеджера получить верный результат при таком подходе: 82.36%\n"
     ]
    }
   ],
   "source": [
    "print('Шанс менеджера получить верный результат при таком подходе: {:.2%}'.format(result))"
   ]
  },
  {
   "cell_type": "markdown",
   "metadata": {},
   "source": [
    "##### Рассмотрим  второй вариант при котором стажеры-аналитики совершают разные ошибки при решении задач, тогда  "
   ]
  },
  {
   "cell_type": "code",
   "execution_count": 13,
   "metadata": {},
   "outputs": [],
   "source": [
    "# вероятность что решения совпадают: оба решили правильно (два решения одинаковые)\n",
    "сhance_x_eq_y = ver_true_x*ver_true_y\n",
    "# вероятность что решения не совпадают: первый решил верно второий нет + оба ошиблись (два разных решения)\n",
    "сhance_x_noeq_y = ver_true_x*ver_false_y + ver_false_x*ver_true_y + ver_false_x*ver_false_y"
   ]
  },
  {
   "cell_type": "code",
   "execution_count": 14,
   "metadata": {},
   "outputs": [
    {
     "name": "stdout",
     "output_type": "stream",
     "text": [
      "вероятность того что решения совпадают: 67.83%\n",
      "решения не совпадают: 32.17%\n"
     ]
    }
   ],
   "source": [
    "print('вероятность того что решения совпадают: {:.2%}\\nрешения не совпадают: {:.2%}'.format(сhance_x_eq_y, сhance_x_noeq_y))"
   ]
  },
  {
   "cell_type": "code",
   "execution_count": 15,
   "metadata": {},
   "outputs": [],
   "source": [
    "all_x_eq_y = x[(x==y) & (x==1)]\n",
    "all_x_noeq_y = x[(x!=y) | ((x==y) & (x==0))]"
   ]
  },
  {
   "cell_type": "code",
   "execution_count": 16,
   "metadata": {},
   "outputs": [],
   "source": [
    "x_eq_y_right = all_x_eq_y[all_x_eq_y == 1].shape[0] / all_x_eq_y.shape[0]\n",
    "x_eq_y_mistake = all_x_eq_y[all_x_eq_y == 0].shape[0] / all_x_eq_y.shape[0]\n",
    "\n",
    "x_noeq_y_right = all_x_noeq_y[all_x_noeq_y == 1].shape[0] / all_x_noeq_y.shape[0]\n",
    "x_noeq_y_mistake = all_x_noeq_y[all_x_noeq_y == 0].shape[0] / all_x_noeq_y.shape[0]"
   ]
  },
  {
   "cell_type": "code",
   "execution_count": 17,
   "metadata": {},
   "outputs": [],
   "source": [
    "result = сhance_x_eq_y * x_eq_y_right + сhance_x_noeq_y * x_noeq_y_right"
   ]
  },
  {
   "cell_type": "code",
   "execution_count": 18,
   "metadata": {},
   "outputs": [
    {
     "name": "stdout",
     "output_type": "stream",
     "text": [
      "Если ответы совпадают:\n",
      "\t вероятность правильного решения: 100.00% вероятность ошибки: 0.00%\n",
      "Если ответы не совпадают:\n",
      "\t вероятность правильного решения: 45.16% вероятность ошибки: 54.84%\n"
     ]
    }
   ],
   "source": [
    "print('Если ответы совпадают:')\n",
    "print('\\t вероятность правильного решения: {:.2%} вероятность ошибки: {:.2%}'.format(\n",
    "    x_eq_y_right, x_eq_y_mistake))\n",
    "print('Если ответы не совпадают:')\n",
    "print('\\t вероятность правильного решения: {:.2%} вероятность ошибки: {:.2%}'.format(\n",
    "    x_noeq_y_right, x_noeq_y_mistake))"
   ]
  },
  {
   "cell_type": "code",
   "execution_count": 19,
   "metadata": {},
   "outputs": [
    {
     "name": "stdout",
     "output_type": "stream",
     "text": [
      "Шанс менеджера получить верный результат при таком подходе: 82.36%\n"
     ]
    }
   ],
   "source": [
    "print('Шанс менеджера получить верный результат при таком подходе: {:.2%}'.format(result))"
   ]
  },
  {
   "cell_type": "markdown",
   "metadata": {},
   "source": [
    "#### В двух рассмотренных случаях, при данной стратегии вероятность получения правильного ответа не изменилось и составила 82.36%, что соответствует исходной вероятности каждого из стажеров-аналитиков. Второй стажер-аналитик не влияет на увеличения вероятности получения правильного решения."
   ]
  },
  {
   "cell_type": "code",
   "execution_count": null,
   "metadata": {},
   "outputs": [],
   "source": []
  }
 ],
 "metadata": {
  "kernelspec": {
   "display_name": "Python 3",
   "language": "python",
   "name": "python3"
  },
  "language_info": {
   "codemirror_mode": {
    "name": "ipython",
    "version": 3
   },
   "file_extension": ".py",
   "mimetype": "text/x-python",
   "name": "python",
   "nbconvert_exporter": "python",
   "pygments_lexer": "ipython3",
   "version": "3.8.5"
  }
 },
 "nbformat": 4,
 "nbformat_minor": 4
}
